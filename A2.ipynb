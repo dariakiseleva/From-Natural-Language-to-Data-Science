{
  "nbformat": 4,
  "nbformat_minor": 0,
  "metadata": {
    "colab": {
      "name": "Copy of NL2DS-Assignment-2-Regular-Expressions",
      "provenance": [],
      "collapsed_sections": []
    },
    "kernelspec": {
      "name": "python3",
      "display_name": "Python 3"
    }
  },
  "cells": [
    {
      "cell_type": "markdown",
      "metadata": {
        "id": "jpPo-0zjUGkA"
      },
      "source": [
        "# Problem 1\n",
        "\n",
        "\n",
        "---\n",
        "\n"
      ]
    },
    {
      "cell_type": "markdown",
      "metadata": {
        "id": "EORfPYZbhqyf"
      },
      "source": [
        "\n",
        "Write regular expressions that match the output strings in the given set of input strings. \n",
        "\n",
        "\n",
        "#### Problem 1.1\n",
        "Input: \n",
        "```\n",
        "xyxyxyx\n",
        "xxyx\n",
        "xxyyxx\n",
        "xyx\n",
        "xxyxyxyx\n",
        "```\n",
        "\n",
        "Output:\n",
        "```\n",
        "xxyx\n",
        "xxyxyxyx\n",
        "```\n",
        "\n",
        "Note: Do not use the regular expression which resembles `(word1|word2)`. This defeats the purpose of the regular expression."
      ]
    },
    {
      "cell_type": "code",
      "metadata": {
        "id": "s3fasx98SqmM",
        "outputId": "d773698d-3a69-484d-bda4-0b122e023834",
        "colab": {
          "base_uri": "https://localhost:8080/",
          "height": 50
        }
      },
      "source": [
        "import re\n",
        "\n",
        "words = [\"xyxyxyx\", \"xxyx\", \"xxyyxx\", \"xyx\", \"xxyxyxyx\"]\n",
        "pattern = re.compile(\"x(xy)+x\")\n",
        "for word in words:\n",
        "  if pattern.match(word):\n",
        "    print(word)"
      ],
      "execution_count": null,
      "outputs": [
        {
          "output_type": "stream",
          "text": [
            "xxyx\n",
            "xxyxyxyx\n"
          ],
          "name": "stdout"
        }
      ]
    },
    {
      "cell_type": "markdown",
      "metadata": {
        "id": "alK7uvOIV0bn"
      },
      "source": [
        "#### Problem 1.2\n",
        "Input: \n",
        "```\n",
        "xyz\n",
        "xz\n",
        "xyyy\n",
        "yyz\n",
        "```\n",
        "\n",
        "Output:\n",
        "```\n",
        "xyz\n",
        "xyyy\n",
        "```"
      ]
    },
    {
      "cell_type": "code",
      "metadata": {
        "id": "iX-nXRtzWkKr",
        "outputId": "57430c7a-6ee8-443e-8712-afb728b84f33",
        "colab": {
          "base_uri": "https://localhost:8080/",
          "height": 50
        }
      },
      "source": [
        "import re\n",
        "\n",
        "words = [\"xyz\", \"xz\", \"xyyy\", \"yyz\"]\n",
        "pattern = re.compile(\"xy[zy+]\")\n",
        "for word in words:\n",
        "  if pattern.match(word):\n",
        "    print(word)"
      ],
      "execution_count": null,
      "outputs": [
        {
          "output_type": "stream",
          "text": [
            "xyz\n",
            "xyyy\n"
          ],
          "name": "stdout"
        }
      ]
    },
    {
      "cell_type": "markdown",
      "metadata": {
        "id": "YvPLBmtpWvv6"
      },
      "source": [
        "#### Problem 1.3\n",
        "\n",
        "Input: \n",
        "```\n",
        "xyz\n",
        "xyyyyyyyy\n",
        "xzz\n",
        "xyzyzyzyz\n",
        "xz\n",
        "xszzyyyyzyzzzz\n",
        " ```\n",
        "\n",
        "Output:\n",
        "```\n",
        "xyz\n",
        "xyyyyyyyy\n",
        "xzz\n",
        "xyzyzyzyz\n",
        "xszzyyyyzyzzzz\n",
        "```\n",
        "\n",
        "Note: Do not use the expression the  ```[^(xz)]$```. Use positive strings to define the regular expression."
      ]
    },
    {
      "cell_type": "code",
      "metadata": {
        "id": "O91H-AuRZZGg",
        "outputId": "b2f0e738-b111-4242-88cb-bf0eb4c0c48d",
        "colab": {
          "base_uri": "https://localhost:8080/",
          "height": 98
        }
      },
      "source": [
        "import re\n",
        "\n",
        "words = [\"xyz\", \"xyyyyyyyy\", \"xzz\", \"xyzyzyzyz\", \"xz\", \"xszzyyyyzyzzzz\"]\n",
        "pattern = re.compile(\"x.[yz]+\")\n",
        "for word in words:\n",
        "  if pattern.match(word):\n",
        "    print(word)"
      ],
      "execution_count": null,
      "outputs": [
        {
          "output_type": "stream",
          "text": [
            "xyz\n",
            "xyyyyyyyy\n",
            "xzz\n",
            "xyzyzyzyz\n",
            "xszzyyyyzyzzzz\n"
          ],
          "name": "stdout"
        }
      ]
    },
    {
      "cell_type": "markdown",
      "metadata": {
        "id": "Sl29e2t8Zfnh"
      },
      "source": [
        "#### Problem 1.4\n",
        "\n",
        "Input:\n",
        "```\n",
        "x. y\n",
        "x?  Y\n",
        "x! y\n",
        "x y\n",
        "x.  Y\n",
        "x Y\n",
        "```\n",
        "\n",
        "Ouput:\n",
        "```\n",
        "x. y\n",
        "x?  Y\n",
        "x! y\n",
        "x.  Y\n",
        "```\n"
      ]
    },
    {
      "cell_type": "code",
      "metadata": {
        "id": "X1pJaNywZedv",
        "outputId": "82a8ea18-10fd-415f-e8c6-b5298aabdf35",
        "colab": {
          "base_uri": "https://localhost:8080/",
          "height": 82
        }
      },
      "source": [
        "import re\n",
        "\n",
        "words = [\"x. y\", \"x? Y\", \"x! y\", \"x y\", \"x. Y\", \"x Y\"]\n",
        "pattern = re.compile(\"x[\\.\\?\\!] [Yy]\")\n",
        "for word in words:\n",
        "  if pattern.match(word):\n",
        "    print(word)"
      ],
      "execution_count": null,
      "outputs": [
        {
          "output_type": "stream",
          "text": [
            "x. y\n",
            "x? Y\n",
            "x! y\n",
            "x. Y\n"
          ],
          "name": "stdout"
        }
      ]
    },
    {
      "cell_type": "markdown",
      "metadata": {
        "id": "lWCIT3K_wYPH"
      },
      "source": [
        "#### Problem 1.5\n",
        "\n",
        "Input:\n",
        "\n",
        "```\n",
        "<html class=\"client-nojs\" lang=\"en\" dir=\"ltr\">\n",
        "<table class=\"infobox biota\" style=\"text-align: left; width: 200px; font-size: 100%\">\n",
        "```\n",
        "\n",
        "Output:\n",
        "```\n",
        "tags:\n",
        "html\n",
        "table\n",
        "\n",
        "keys:\n",
        "class\n",
        "lang\n",
        "dir\n",
        "style\n",
        "\n",
        "values:\n",
        "client-nojs; infobox biota\n",
        "en\n",
        "ltr\n",
        "text-align: left; width: 200px; font-size: 100%\n",
        "```\n",
        "\n",
        "Note: Your code **should** use the function [group()](https://docs.python.org/3/library/re.html#re.Match.group) to find tags, keys and values. "
      ]
    },
    {
      "cell_type": "code",
      "metadata": {
        "id": "X0FT9S_Jvnbc",
        "outputId": "7c982ff6-dee4-4407-8b6b-39d1c67d6214",
        "colab": {
          "base_uri": "https://localhost:8080/",
          "height": 204
        }
      },
      "source": [
        "input_lines = ['<html class=\"client-nojs\" lang=\"en\" dir=\"ltr\">', '<table class=\"infobox biota\" style=\"text-align: left; width: 200px; font-size: 100%\">']\n",
        "\n",
        "import re\n",
        "\n",
        "#TAGS\n",
        "print(\"tags:\")\n",
        "for line in input_lines:\n",
        "  m = re.match(r\"<(\\w+)\", line)\n",
        "  print(m.group(1))\n",
        "\n",
        "#KEYS\n",
        "print(\"\\nkeys:\")\n",
        "for line in input_lines:\n",
        "  n = re.finditer(r\".*(\\b\\w+\\b)=\\\"(.*)\\\"\", line,flags=0)\n",
        "  for element in n:\n",
        "    print(element.group(1))\n",
        "\n",
        "#VALUES\n",
        "print(\"\\nvalues:\")\n",
        "for line in input_lines:\n",
        "  n = re.finditer(r\".*(\\b\\w+\\b)=\\\"(.*)\\\"\", line,flags=0)\n",
        "  for element in n:\n",
        "    print(element.group(2))\n"
      ],
      "execution_count": null,
      "outputs": [
        {
          "output_type": "stream",
          "text": [
            "tags:\n",
            "html\n",
            "table\n",
            "\n",
            "keys:\n",
            "dir\n",
            "style\n",
            "\n",
            "values:\n",
            "ltr\n",
            "text-align: left; width: 200px; font-size: 100%\n"
          ],
          "name": "stdout"
        }
      ]
    },
    {
      "cell_type": "markdown",
      "metadata": {
        "id": "0SehLKyuQM4Q"
      },
      "source": [
        "\n",
        "\n",
        "## Problem 2\n",
        "\n",
        "See https://docs.google.com/document/d/1h4JoDFDeZpuD7msH0_1jgIz8EvjPMbB7pL_5qTksFY8/edit?usp=sharing\n",
        "\n"
      ]
    }
  ]
}